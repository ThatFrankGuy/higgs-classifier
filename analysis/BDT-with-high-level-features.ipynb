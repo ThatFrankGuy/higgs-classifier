{
 "cells": [
  {
   "cell_type": "code",
   "execution_count": 1,
   "metadata": {},
   "outputs": [],
   "source": [
    "import save_and_load\n",
    "import importlib\n",
    "import substructure\n",
    "import numpy as np\n",
    "import csv_decoder\n",
    "from matplotlib import pyplot\n",
    "from sklearn.ensemble import AdaBoostClassifier\n",
    "from sklearn.tree import DecisionTreeClassifier"
   ]
  },
  {
   "cell_type": "code",
   "execution_count": 2,
   "metadata": {},
   "outputs": [],
   "source": [
    "# Loading VH and hj\n",
    "vh_event_list, vh_mass_list, vh_higgs_list, \\\n",
    "vh_weight_list, vh_image_list, vh_recluster_images = save_and_load.load('vh-hj-vbf', 'vh')\n",
    "hj_event_list, hj_mass_list, hj_higgs_list, \\\n",
    "hj_weight_list, hj_image_list, hj_recluster_images = save_and_load.load('vh-hj-vbf', 'hj')\n",
    "vbf_event_list, vbf_mass_list, vbf_higgs_list, \\\n",
    "vbf_weight_list, vbf_image_list, vbf_recluster_images = save_and_load.load('vh-hj-vbf', 'vbf')"
   ]
  },
  {
   "cell_type": "code",
   "execution_count": 3,
   "metadata": {},
   "outputs": [],
   "source": [
    "# Cluster 0.8 jets\n",
    "importlib.reload(csv_decoder)\n",
    "vh_clustered = csv_decoder.cluster_event(vh_event_list)\n",
    "hj_clustered = csv_decoder.cluster_event(hj_event_list)\n",
    "vbf_clustered = csv_decoder.cluster_event(vbf_event_list)\n",
    "vh_reclustered, vh_non_higgs_jets = csv_decoder.recluster_event(vh_clustered, vh_higgs_list)\n",
    "hj_reclustered, hj_non_higgs_jets = csv_decoder.recluster_event(hj_clustered, hj_higgs_list)\n",
    "vbf_reclustered, vbf_non_higgs_jets = csv_decoder.recluster_event(vbf_clustered, vbf_higgs_list)"
   ]
  },
  {
   "cell_type": "code",
   "execution_count": 13,
   "metadata": {},
   "outputs": [
    {
     "name": "stdout",
     "output_type": "stream",
     "text": [
      "Generating x\n"
     ]
    }
   ],
   "source": [
    "# Extracting data for VH\n",
    "importlib.reload(substructure)\n",
    "vh_higgs_pt = []\n",
    "vh_higgs_eta = []\n",
    "vh_non_higgs_leading_m = []\n",
    "vh_non_higgs_leading_pt = []\n",
    "vh_non_higgs_leading_eta = []\n",
    "vh_N2 = substructure.find_new_var_N_2(vh_reclustered,vh_clustered)\n",
    "\n",
    "print('Generating x')\n",
    "# High-level features used for training. The Features included are:\n",
    "# [\n",
    "# 0: higgs mass\n",
    "# 1: higgs pt\n",
    "# 2: higgs eta\n",
    "# 3: non-higgs mass\n",
    "# 4: non-higgs pt\n",
    "# 5: non-higgs eta\n",
    "# 6: non-higgs n2\n",
    "vh_x = []\n",
    "for i in range(len(vh_event_list)):\n",
    "    vh_higgs_pt.append(vh_higgs[i][0])\n",
    "    vh_higgs_eta.append(vh_higgs[i][1])\n",
    "    vh_non_higgs_leading_m.append(vh_non_higgs_jets[i].mass)\n",
    "    vh_non_higgs_leading_pt.append(vh_non_higgs_jets[i].pt)\n",
    "    vh_non_higgs_leading_eta.append(vh_non_higgs_jets[i].eta)\n",
    "    \n",
    "    vh_x.append((\n",
    "        vh_mass_list[i],\n",
    "        vh_higgs[i][0],\n",
    "        vh_higgs[i][1],\n",
    "        vh_non_higgs_jets[i].mass,\n",
    "        vh_non_higgs_jets[i].pt,\n",
    "        vh_non_higgs_jets[i].eta,\n",
    "        vh_N2[i]))"
   ]
  },
  {
   "cell_type": "code",
   "execution_count": null,
   "metadata": {},
   "outputs": [],
   "source": [
    "# Extracting data for hj\n",
    "importlib.reload(substructure)\n",
    "hj_higgs_pt = []\n",
    "hj_higgs_eta = []\n",
    "hj_non_higgs_leading_m = []\n",
    "hj_non_higgs_leading_pt = []\n",
    "hj_non_higgs_leading_eta = []\n",
    "hj_N2 = substructure.find_new_var_N_2(hj_reclustered,hj_clustered)\n",
    "\n",
    "print('Generating x')\n",
    "# High-level features used for training. The Features included are:\n",
    "# [\n",
    "# 0: higgs mass\n",
    "# 1: higgs pt\n",
    "# 2: higgs eta\n",
    "# 3: non-higgs mass\n",
    "# 4: non-higgs pt\n",
    "# 5: non-higgs eta\n",
    "# 6: non-higgs n2\n",
    "hj_x = []\n",
    "for i in range(len(hj_event_list)):\n",
    "    hj_higgs_pt.append(hj_higgs[i][0])\n",
    "    hj_higgs_eta.append(hj_higgs[i][1])\n",
    "    hj_non_higgs_leading_m.append(hj_non_higgs_jets[i].mass)\n",
    "    hj_non_higgs_leading_pt.append(hj_non_higgs_jets[i].pt)\n",
    "    hj_non_higgs_leading_eta.append(hj_non_higgs_jets[i].eta)\n",
    "    \n",
    "    hj_x.append((\n",
    "        hj_mass_list[i],\n",
    "        hj_higgs[i][0],\n",
    "        hj_higgs[i][1],\n",
    "        hj_non_higgs_jets[i].mass,\n",
    "        hj_non_higgs_jets[i].pt,\n",
    "        hj_non_higgs_jets[i].eta,\n",
    "        hj_N2[i]))"
   ]
  },
  {
   "cell_type": "code",
   "execution_count": null,
   "metadata": {},
   "outputs": [],
   "source": [
    "# Extracting data for vbf\n",
    "importlib.reload(substructure)\n",
    "vbf_higgs_pt = []\n",
    "vbf_higgs_eta = []\n",
    "vbf_non_higgs_leading_m = []\n",
    "vbf_non_higgs_leading_pt = []\n",
    "vbf_non_higgs_leading_eta = []\n",
    "vbf_N2 = substructure.find_new_var_N_2(vbf_reclustered,vbf_clustered)\n",
    "\n",
    "print('Generating x')\n",
    "# High-level features used for training. The Features included are:\n",
    "# [\n",
    "# 0: higgs mass\n",
    "# 1: higgs pt\n",
    "# 2: higgs eta\n",
    "# 3: non-higgs mass\n",
    "# 4: non-higgs pt\n",
    "# 5: non-higgs eta\n",
    "# 6: non-higgs n2\n",
    "vbf_x = []\n",
    "for i in range(len(vbf_event_list)):\n",
    "    vbf_higgs_pt.append(vbf_higgs[i][0])\n",
    "    vbf_higgs_eta.append(vbf_higgs[i][1])\n",
    "    vbf_non_higgs_leading_m.append(vbf_non_higgs_jets[i].mass)\n",
    "    vbf_non_higgs_leading_pt.append(vbf_non_higgs_jets[i].pt)\n",
    "    vbf_non_higgs_leading_eta.append(vbf_non_higgs_jets[i].eta)\n",
    "    \n",
    "    vbf_x.append((\n",
    "        vbf_mass_list[i],\n",
    "        vbf_higgs[i][0],\n",
    "        vbf_higgs[i][1],\n",
    "        vbf_non_higgs_jets[i].mass,\n",
    "        vbf_non_higgs_jets[i].pt,\n",
    "        vbf_non_higgs_jets[i].eta,\n",
    "        vbf_N2[i]))"
   ]
  },
  {
   "cell_type": "code",
   "execution_count": null,
   "metadata": {},
   "outputs": [],
   "source": [
    "# A simple method splitting binary training x\n",
    "# the first group of x (background) is automatically given classification 0,\n",
    "# and the decond group (signal) is automatically given classification 1\n",
    "# the parameter rsplit specifies 2 cutting points\n",
    "def split_x(background_x, signal_x, rsplit = np.array([0.5,0.75])):        \n",
    "    b_split = np.split(background_x,(len(background_x)*rsplit).astype(int))\n",
    "    s_split = np.split(signal_x,(len(signal_x)*rsplit).astype(int))\n",
    "    \n",
    "    x_train = np.concatenate((b_split[0],s_split[0]))\n",
    "    y_train = np.array(np.concatenate((np.zeros(len(b_split[0])),np.ones(len(s_split[0])))))\n",
    "    \n",
    "    x_val = np.concatenate((b_split[1],s_split[1]))\n",
    "    y_val = np.array(np.concatenate((np.zeros(len(b_split[1])),np.ones(len(s_split[1])))))\n",
    "    \n",
    "    x_test = np.concatenate((b_split[2],s_split[2]))\n",
    "    y_test = np.array(np.concatenate((np.zeros(len(b_split[2])),np.ones(len(s_split[2])))))\n",
    "    return(x_train,y_train,\n",
    "           x_val,y_val,\n",
    "           x_test,y_test)"
   ]
  },
  {
   "cell_type": "code",
   "execution_count": null,
   "metadata": {},
   "outputs": [],
   "source": [
    "x_train, y_train, x_val, y_val, x_test, y_test = split_data(vh_x, hj_x)"
   ]
  },
  {
   "cell_type": "code",
   "execution_count": null,
   "metadata": {},
   "outputs": [],
   "source": [
    "# Creating classifier\n",
    "bdt = AdaBoostClassifier(DecisionTreeClassifier(max_depth=5),\n",
    "                         algorithm=\"SAMME.R\",\n",
    "                         n_estimators=200)\n"
   ]
  },
  {
   "cell_type": "code",
   "execution_count": null,
   "metadata": {},
   "outputs": [],
   "source": []
  }
 ],
 "metadata": {
  "kernelspec": {
   "display_name": "Python 3 Keras",
   "language": "python",
   "name": "python_3_keras"
  },
  "language_info": {
   "codemirror_mode": {
    "name": "ipython",
    "version": 3
   },
   "file_extension": ".py",
   "mimetype": "text/x-python",
   "name": "python",
   "nbconvert_exporter": "python",
   "pygments_lexer": "ipython3",
   "version": "3.7.5"
  }
 },
 "nbformat": 4,
 "nbformat_minor": 2
}
