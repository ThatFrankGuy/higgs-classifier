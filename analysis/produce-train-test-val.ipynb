{
 "cells": [
  {
   "cell_type": "markdown",
   "metadata": {},
   "source": [
    "# Introduction\n",
    "\n",
    "This notebook splits both background and signal .npy data into train, test and val sets containing both classes, and store them into HDF5 datasets. These datasets will be accessed by the classifier like numpy arrays, saving memory and enabling larger datasets. This is necessary on Squirrel since it only has ~100G memory in total, and images for 100k events can easily take ~8GB memory. \n",
    "\n",
    "It might appear messy to use 3 intermediate formats: .csv for showered events, .npy for event/jet images and .hdf5 for splitted dataset, but I think this might be handy if we want to adjust dataset split or composition during CNN tuning: if we use only .csv from pythia and .hdf5, then we need to generate event image every time we need new train/test/val sets, which takes ~ 15 mins for 100k events, and so far there are ~ 500k events in total for 3 higgs processes."
   ]
  },
  {
   "cell_type": "code",
   "execution_count": 1,
   "metadata": {},
   "outputs": [],
   "source": [
    "import numpy as np\n",
    "import h5py\n",
    "import save_and_load\n",
    "import matplotlib.pyplot as plt\n",
    "import os"
   ]
  },
  {
   "cell_type": "markdown",
   "metadata": {},
   "source": [
    "## Reading data"
   ]
  },
  {
   "cell_type": "code",
   "execution_count": 2,
   "metadata": {},
   "outputs": [
    {
     "name": "stdout",
     "output_type": "stream",
     "text": [
      "finished\n"
     ]
    }
   ],
   "source": [
    "# Load in event info and images produced by file-processing.ipynb\n",
    "# Will use 8.1% memory\n",
    "background_event_list, signal_event_list, background_mass_list, signal_mass_list,\\\n",
    "        background_weight, signal_weight, background_image_list, signal_image_list,\\\n",
    "        background_recluster_images, signal_recluster_images = save_and_load.load_binary('vh-hj', name_1='vh', name_2='hj') \n",
    "print('finished')"
   ]
  },
  {
   "cell_type": "markdown",
   "metadata": {},
   "source": [
    "## Splitting data"
   ]
  },
  {
   "cell_type": "code",
   "execution_count": 3,
   "metadata": {},
   "outputs": [],
   "source": [
    "# Function that splits whole event dataset into test, train and evaluation sets.\n",
    "# the *_cut outputs has a 115<mass<135 cut.\n",
    "rsplit = np.array([0.5,0.75])\n",
    "\n",
    "def split_data(background_image_list,signal_image_list,background_mass_list, signal_mass_list, cut=False):\n",
    "    try:\n",
    "        input_shape = background_image_list[0].shape\n",
    "    except AttributeError:\n",
    "        input_shape = (0)\n",
    "        \n",
    "    b_split = np.split(background_image_list,(len(background_image_list)*rsplit).astype(int))\n",
    "    s_split = np.split(signal_image_list,(len(signal_image_list)*rsplit).astype(int))\n",
    "    bm_split = np.split(background_mass_list,(len(background_mass_list)*rsplit).astype(int))\n",
    "    sm_split = np.split(signal_mass_list,(len(signal_mass_list)*rsplit).astype(int))\n",
    "    \n",
    "    x_train = np.concatenate((b_split[0],s_split[0]))\n",
    "    y_train = np.array(np.concatenate((np.zeros(len(b_split[0])),np.ones(len(s_split[0])))))\n",
    "    mass_train = np.concatenate((bm_split[0],sm_split[0]))\n",
    "    \n",
    "    x_val = np.concatenate((b_split[1],s_split[1]))\n",
    "    y_val = np.array(np.concatenate((np.zeros(len(b_split[1])),np.ones(len(s_split[1])))))\n",
    "    mass_val = np.concatenate((bm_split[1],sm_split[1]))\n",
    "    \n",
    "    x_test = np.concatenate((b_split[2],s_split[2]))\n",
    "    y_test = np.array(np.concatenate((np.zeros(len(b_split[2])),np.ones(len(s_split[2])))))\n",
    "    mass_test = np.concatenate((bm_split[2],sm_split[2]))\n",
    "    \n",
    "    # Output dataset with mass cut\n",
    "    if cut:\n",
    "        x_train_cut = [] #Note that we *train* on this cut sample, but *test* on the whole thing I guess\n",
    "        y_train_cut = []\n",
    "        mass_train_cut = []\n",
    "        for x in reversed(range(len(x_train))):\n",
    "            if mass_train[x] < 135 and mass_train[x] > 115:\n",
    "                x_train_cut.append(x_train[x])\n",
    "                y_train_cut.append(y_train[x])\n",
    "                mass_train_cut.append(mass_train[x])\n",
    "        x_train_cut = np.array(x_train_cut)\n",
    "        y_train_cut = np.array(y_train_cut)\n",
    "        mass_train_cut = np.array(mass_train_cut)\n",
    "\n",
    "        x_val_cut = [] \n",
    "        y_val_cut = []\n",
    "        mass_val_cut = []\n",
    "        for x in reversed(range(len(x_val))):\n",
    "            if mass_val[x] < 135 and mass_val[x] > 115:\n",
    "                x_val_cut.append(x_val[x])\n",
    "                y_val_cut.append(y_val[x])\n",
    "                mass_val_cut.append(mass_val[x])\n",
    "        x_val_cut = np.array(x_val_cut)\n",
    "        y_val_cut = np.array(y_val_cut)\n",
    "        mass_val_cut = np.array(mass_val_cut)\n",
    "\n",
    "        x_test_cut = [] \n",
    "        y_test_cut = []\n",
    "        mass_test_cut = []\n",
    "        for x in reversed(range(len(x_test))):\n",
    "            if mass_test[x] < 135 and mass_test[x] > 115:\n",
    "                x_test_cut.append(x_test[x])\n",
    "                y_test_cut.append(y_test[x])\n",
    "                mass_test_cut.append(mass_test[x])\n",
    "        x_test_cut = np.array(x_test_cut)\n",
    "        y_test_cut = np.array(y_test_cut)\n",
    "        mass_test_cut = np.array(mass_test_cut)\n",
    "        return(input_shape,\n",
    "               x_train_cut,y_train_cut,mass_train_cut,\n",
    "               x_val_cut,y_val_cut,mass_val_cut,\n",
    "               x_test_cut,y_test_cut,mass_test_cut,\n",
    "               )\n",
    "    return(input_shape,\n",
    "           x_train,y_train,mass_train,\n",
    "           x_val,y_val,mass_val,\n",
    "           x_test,y_test,mass_test,\n",
    "           )"
   ]
  },
  {
   "cell_type": "code",
   "execution_count": 6,
   "metadata": {},
   "outputs": [
    {
     "name": "stdout",
     "output_type": "stream",
     "text": [
      "Here is a background event image:\n"
     ]
    },
    {
     "data": {
      "image/png": "[encoded data removed]",
      "text/plain": [
       "<Figure size 432x288 with 1 Axes>"
      ]
     },
     "metadata": {
      "needs_background": "light"
     },
     "output_type": "display_data"
    },
    {
     "name": "stdout",
     "output_type": "stream",
     "text": [
      "Here is a signal event image:\n"
     ]
    },
    {
     "data": {
      "image/png": "[encoded data removed]",
      "text/plain": [
       "<Figure size 432x288 with 1 Axes>"
      ]
     },
     "metadata": {
      "needs_background": "light"
     },
     "output_type": "display_data"
    },
    {
     "name": "stdout",
     "output_type": "stream",
     "text": [
      "Here is a background event image:\n"
     ]
    },
    {
     "data": {
      "image/png": "[encoded data removed]",
      "text/plain": [
       "<Figure size 432x288 with 1 Axes>"
      ]
     },
     "metadata": {
      "needs_background": "light"
     },
     "output_type": "display_data"
    },
    {
     "name": "stdout",
     "output_type": "stream",
     "text": [
      "Here is a signal event image:\n"
     ]
    },
    {
     "data": {
      "image/png": "[encoded data removed]",
      "text/plain": [
       "<Figure size 432x288 with 1 Axes>"
      ]
     },
     "metadata": {
      "needs_background": "light"
     },
     "output_type": "display_data"
    },
    {
     "name": "stdout",
     "output_type": "stream",
     "text": [
      "Here is a background jet image:\n"
     ]
    },
    {
     "data": {
      "image/png": "[encoded data removed]",
      "text/plain": [
       "<Figure size 432x288 with 1 Axes>"
      ]
     },
     "metadata": {
      "needs_background": "light"
     },
     "output_type": "display_data"
    },
    {
     "name": "stdout",
     "output_type": "stream",
     "text": [
      "Here is a signal jet image:\n"
     ]
    },
    {
     "data": {
      "image/png": "[encoded data removed]",
      "text/plain": [
       "<Figure size 432x288 with 1 Axes>"
      ]
     },
     "metadata": {
      "needs_background": "light"
     },
     "output_type": "display_data"
    },
    {
     "name": "stdout",
     "output_type": "stream",
     "text": [
      "The datasets are always sorted background-first:\n",
      "[0. 0. 0. 0. 0. 0. 0. 0. 0. 0. 0. 0. 0. 0. 0. 0. 0. 0. 0. 0. 0. 0. 0. 0.\n",
      " 0. 0. 0. 0. 0. 0. 0. 0. 0. 0. 0. 0. 0. 0. 0. 0. 0. 0. 0. 0. 0. 0. 0. 0.\n",
      " 0. 0. 0. 0. 0. 0. 0. 0. 0. 0. 0. 0. 0. 0. 0. 0. 0. 0. 0. 0. 0. 0. 0. 0.\n",
      " 0. 0. 0. 0. 0. 0. 0. 0. 0. 0. 0. 0. 0. 0. 0. 0. 0. 0. 0. 0. 0. 0. 0. 0.\n",
      " 0. 0. 0. 0. 0. 0. 0. 0. 0. 0. 0. 0. 0. 0. 0. 0. 0. 0. 0. 0. 0. 0. 0. 0.\n",
      " 0. 0. 0. 0. 0. 0. 0. 0. 0. 0. 0. 0. 0. 0. 0. 0. 0. 0. 0. 0. 0. 0. 0. 0.\n",
      " 0. 0. 0. 0. 0. 0. 0. 0. 0. 0. 0. 0. 0. 0. 0. 0. 0. 0. 0. 0. 0. 0. 0. 0.\n",
      " 0. 0. 0. 0. 0. 0. 0. 0. 0. 0. 0. 0. 0. 0. 0. 0. 0. 0. 0. 0. 0. 0. 0. 0.\n",
      " 0. 0. 0. 0. 0. 0. 0. 0. 0. 0. 0. 0. 0. 0. 0. 0. 0. 0. 0. 0. 0. 0. 0. 0.\n",
      " 0. 0. 0. 0. 0. 0. 0. 0. 0. 0. 0. 0. 0. 0. 0. 0. 0. 0. 0. 0. 0. 0. 0. 0.\n",
      " 0. 0. 0. 0. 0. 0. 0. 0. 0. 0. 0. 0. 0. 0. 0. 0. 0. 0. 0. 0. 0. 0. 0. 0.\n",
      " 0. 0. 0. 0. 0. 0. 0. 0. 0. 0. 0. 0. 0. 0. 0. 0. 0. 0. 0. 0. 0. 0. 0. 0.\n",
      " 0. 0. 0. 0. 0. 0. 0. 0. 0. 0. 0. 0. 0. 0. 0. 0. 0. 0. 0. 0. 0. 0. 0. 0.\n",
      " 0. 0. 0. 0. 0. 0. 0. 0. 0. 0. 0. 0. 0. 0. 0. 0. 0. 0. 0. 0. 0. 0. 0. 0.\n",
      " 0. 0. 0. 0. 0. 0. 0. 0. 0. 0. 0. 0. 0. 0. 0. 0. 0. 0. 0. 0. 0. 0. 0. 0.\n",
      " 0. 0. 0. 0. 0. 0. 0. 0. 0. 0. 0. 0. 0. 0. 1. 1. 1. 1. 1. 1. 1. 1. 1. 1.\n",
      " 1. 1. 1. 1. 1. 1. 1. 1. 1. 1. 1. 1. 1. 1. 1. 1. 1. 1. 1. 1. 1. 1. 1. 1.\n",
      " 1. 1. 1. 1. 1. 1. 1. 1. 1. 1. 1. 1. 1. 1. 1. 1. 1. 1. 1. 1. 1. 1. 1. 1.\n",
      " 1. 1. 1. 1. 1. 1. 1. 1. 1. 1. 1. 1. 1. 1. 1. 1. 1. 1. 1. 1. 1. 1. 1. 1.\n",
      " 1. 1. 1. 1. 1. 1. 1. 1. 1. 1. 1. 1. 1. 1. 1. 1. 1. 1. 1. 1. 1. 1. 1. 1.\n",
      " 1. 1. 1. 1. 1. 1. 1. 1. 1. 1. 1. 1. 1. 1. 1. 1. 1. 1. 1. 1. 1. 1. 1. 1.\n",
      " 1. 1. 1. 1. 1. 1. 1. 1. 1. 1. 1. 1. 1. 1. 1. 1. 1. 1. 1. 1. 1. 1. 1. 1.\n",
      " 1. 1. 1. 1. 1. 1. 1. 1. 1. 1. 1. 1. 1. 1. 1. 1. 1. 1. 1. 1. 1. 1. 1. 1.\n",
      " 1. 1. 1. 1. 1. 1. 1. 1. 1. 1. 1. 1. 1. 1. 1. 1. 1. 1. 1. 1. 1. 1. 1. 1.\n",
      " 1. 1. 1. 1. 1. 1. 1. 1. 1. 1. 1. 1. 1. 1. 1. 1. 1. 1. 1. 1. 1. 1. 1. 1.\n",
      " 1. 1. 1. 1. 1. 1. 1. 1. 1. 1. 1. 1. 1. 1. 1. 1. 1. 1. 1. 1. 1. 1. 1. 1.\n",
      " 1. 1. 1. 1. 1. 1. 1. 1. 1. 1. 1. 1. 1. 1. 1. 1. 1. 1. 1. 1. 1. 1.]\n",
      "[0. 0. 0. 0. 0. 0. 0. 0. 0. 0. 0. 0. 0. 0. 0. 0. 0. 0. 0. 0. 0. 0. 0. 0.\n",
      " 0. 0. 0. 0. 0. 0. 0. 0. 0. 0. 0. 0. 0. 0. 0. 0. 0. 0. 0. 0. 0. 0. 0. 0.\n",
      " 0. 0. 0. 0. 0. 0. 0. 0. 0. 0. 0. 0. 0. 0. 0. 0. 0. 0. 0. 0. 0. 0. 0. 0.\n",
      " 0. 0. 0. 0. 0. 0. 0. 0. 0. 0. 0. 0. 0. 0. 0. 0. 0. 0. 0. 0. 0. 0. 0. 0.\n",
      " 0. 0. 0. 0. 0. 0. 0. 0. 0. 0. 0. 0. 0. 0. 0. 0. 0. 0. 0. 0. 0. 0. 0. 0.\n",
      " 0. 0. 0. 0. 0. 0. 0. 0. 0. 0. 0. 0. 0. 0. 0. 0. 0. 0. 0. 0. 0. 0. 0. 0.\n",
      " 0. 0. 0. 0. 0. 0. 0. 0. 0. 0. 0. 0. 0. 0. 0. 0. 0. 0. 0. 0. 0. 0. 0. 0.\n",
      " 0. 0. 0. 0. 0. 0. 0. 0. 0. 0. 0. 0. 0. 0. 0. 0. 0. 0. 0. 0. 0. 0. 0. 0.\n",
      " 0. 0. 0. 0. 0. 0. 0. 0. 0. 0. 0. 0. 0. 0. 0. 0. 0. 0. 0. 0. 0. 0. 0. 0.\n",
      " 0. 0. 0. 0. 0. 0. 0. 0. 0. 0. 0. 0. 0. 0. 0. 0. 0. 0. 0. 0. 0. 0. 0. 0.\n",
      " 0. 0. 0. 0. 0. 0. 0. 0. 0. 0. 0. 0. 0. 0. 0. 0. 0. 0. 0. 0. 0. 0. 0. 0.\n",
      " 0. 0. 0. 0. 0. 0. 0. 0. 0. 0. 0. 0. 0. 0. 0. 0. 0. 0. 0. 0. 0. 0. 0. 0.\n",
      " 0. 0. 0. 0. 0. 0. 0. 0. 0. 0. 0. 0. 0. 0. 0. 0. 0. 0. 0. 0. 0. 0. 0. 0.\n",
      " 0. 0. 0. 0. 0. 0. 0. 0. 0. 0. 0. 0. 0. 0. 0. 0. 0. 0. 0. 0. 0. 0. 0. 0.\n",
      " 0. 0. 0. 0. 0. 0. 0. 0. 0. 0. 0. 0. 0. 0. 0. 0. 0. 0. 0. 0. 0. 0. 0. 0.\n",
      " 0. 0. 0. 0. 0. 0. 0. 0. 0. 0. 0. 0. 0. 0. 1. 1. 1. 1. 1. 1. 1. 1. 1. 1.\n",
      " 1. 1. 1. 1. 1. 1. 1. 1. 1. 1. 1. 1. 1. 1. 1. 1. 1. 1. 1. 1. 1. 1. 1. 1.\n",
      " 1. 1. 1. 1. 1. 1. 1. 1. 1. 1. 1. 1. 1. 1. 1. 1. 1. 1. 1. 1. 1. 1. 1. 1.\n",
      " 1. 1. 1. 1. 1. 1. 1. 1. 1. 1. 1. 1. 1. 1. 1. 1. 1. 1. 1. 1. 1. 1. 1. 1.\n",
      " 1. 1. 1. 1. 1. 1. 1. 1. 1. 1. 1. 1. 1. 1. 1. 1. 1. 1. 1. 1. 1. 1. 1. 1.\n",
      " 1. 1. 1. 1. 1. 1. 1. 1. 1. 1. 1. 1. 1. 1. 1. 1. 1. 1. 1. 1. 1. 1. 1. 1.\n",
      " 1. 1. 1. 1. 1. 1. 1. 1. 1. 1. 1. 1. 1. 1. 1. 1. 1. 1. 1. 1. 1. 1. 1. 1.\n",
      " 1. 1. 1. 1. 1. 1. 1. 1. 1. 1. 1. 1. 1. 1. 1. 1. 1. 1. 1. 1. 1. 1. 1. 1.\n",
      " 1. 1. 1. 1. 1. 1. 1. 1. 1. 1. 1. 1. 1. 1. 1. 1. 1. 1. 1. 1. 1. 1. 1. 1.\n",
      " 1. 1. 1. 1. 1. 1. 1. 1. 1. 1. 1. 1. 1. 1. 1. 1. 1. 1. 1. 1. 1. 1. 1. 1.\n",
      " 1. 1. 1. 1. 1. 1. 1. 1. 1. 1. 1. 1. 1. 1. 1. 1. 1. 1. 1. 1. 1. 1. 1. 1.\n",
      " 1. 1. 1. 1. 1. 1. 1. 1. 1. 1. 1. 1. 1. 1. 1. 1. 1. 1. 1. 1. 1. 1.]\n"
     ]
    }
   ],
   "source": [
    "# Split event images\n",
    "# Uses ~3.5% memory\n",
    "input_shape, \\\n",
    "    x_train,y_train,mass_train, \\\n",
    "    x_val,y_val,mass_val, \\\n",
    "    x_test,y_test,mass_test = split_data(background_image_list,signal_image_list,background_mass_list, signal_mass_list)\n",
    "\n",
    "# Split jet images\n",
    "# Uses ~3.5% memory\n",
    "input_shape_r, \\\n",
    "    x_train_r,y_train_r,mass_train_r, \\\n",
    "    x_val_r,y_val_r,mass_val_r, \\\n",
    "    x_test_r,y_test_r,mass_test_r = split_data(background_recluster_images,signal_recluster_images,background_mass_list, signal_mass_list)\n",
    "\n",
    "#FRANK print a jet image\n",
    "print('Here is a background event image:')\n",
    "plt.imshow(x_train[0][0])\n",
    "plt.show()\n",
    "\n",
    "print('Here is a signal event image:')\n",
    "plt.imshow(x_train[-1][0])\n",
    "plt.show()\n",
    "print('Here is a background event image:')\n",
    "plt.imshow(x_train[1][0])\n",
    "plt.show()\n",
    "\n",
    "print('Here is a signal event image:')\n",
    "plt.imshow(x_train[-2][0])\n",
    "plt.show()\n",
    "\n",
    "print('Here is a background jet image:')\n",
    "plt.imshow(x_train_r[0][0])\n",
    "plt.show()\n",
    "\n",
    "print('Here is a signal jet image:')\n",
    "plt.imshow(x_train_r[-1][0])\n",
    "plt.show()\n",
    "\n",
    "print('The datasets are always sorted background-first:')\n",
    "print(y_train[::100])\n",
    "print(y_train_r[::100])\n"
   ]
  },
  {
   "cell_type": "code",
   "execution_count": 7,
   "metadata": {},
   "outputs": [],
   "source": [
    "# Saving data to hdf5. ONLY RUN ONCE.\n",
    "# Event images\n",
    "target_folder_name = 'vh-hj-event-image-hdf5'\n",
    "# Deleting old files\n",
    "!rm -rf ./vh-hj-event-image-hdf5/\n",
    "os.makedirs(target_folder_name)\n",
    "\n",
    "# Train set\n",
    "f_train = h5py.File(target_folder_name+'/train.hdf5', \"w\")\n",
    "f_train.create_dataset(\"x_train\", data=x_train)\n",
    "f_train.create_dataset(\"y_train\", data=y_train)\n",
    "f_train.create_dataset(\"mass_train\", data=mass_train)\n",
    "f_train.create_dataset(\"input_shape\", data=input_shape)\n",
    "\n",
    "# Test set\n",
    "f_test = h5py.File(target_folder_name+'/test.hdf5', \"w\")\n",
    "f_test.create_dataset(\"x_test\", data=x_test)\n",
    "f_test.create_dataset(\"y_test\", data=y_test)\n",
    "f_test.create_dataset(\"input_shape\", data=input_shape)\n",
    "\n",
    "# Evaluation set\n",
    "f_val = h5py.File(target_folder_name+'/val.hdf5', \"w\")\n",
    "f_val.create_dataset(\"x_val\", data=x_val)\n",
    "f_val.create_dataset(\"y_val\", data=y_val)\n",
    "f_val.create_dataset(\"input_shape\", data=input_shape)\n",
    "\n",
    "# Closing files will write all changes\n",
    "f_train.close()\n",
    "f_test.close()\n",
    "f_val.close()\n",
    "\n",
    "%xdel x_train\n",
    "%xdel y_train\n",
    "%xdel mass_train\n",
    "%xdel x_test\n",
    "%xdel y_test\n",
    "%xdel x_val\n",
    "%xdel y_val\n",
    "%xdel signal_mass_list"
   ]
  },
  {
   "cell_type": "code",
   "execution_count": 8,
   "metadata": {},
   "outputs": [
    {
     "name": "stdout",
     "output_type": "stream",
     "text": [
      "NameError: name 'signal_mass_list_r' is not defined\n"
     ]
    }
   ],
   "source": [
    "# Saving data to hdf5. ONLY RUN ONCE.\n",
    "# Jet images\n",
    "\n",
    "# Deleting old files\n",
    "target_folder_name = 'vh-hj-jet-image-hdf5'\n",
    "!rm -rf ./vh-hj-jet-image-hdf5/\n",
    "os.makedirs(target_folder_name)\n",
    "\n",
    "# Train set\n",
    "f_train_r = h5py.File(target_folder_name+'/train_r.hdf5', \"w\")\n",
    "f_train_r.create_dataset(\"x_train_r\", data=x_train_r)\n",
    "f_train_r.create_dataset(\"y_train_r\", data=y_train_r)\n",
    "f_train_r.create_dataset(\"mass_train_r\", data=mass_train_r)\n",
    "f_train_r.create_dataset(\"input_shape_r\", data=input_shape_r)\n",
    "\n",
    "# Test set\n",
    "f_test_r = h5py.File(target_folder_name+'/test_r.hdf5', \"w\")\n",
    "f_test_r.create_dataset(\"x_test_r\", data=x_test_r)\n",
    "f_test_r.create_dataset(\"y_test_r\", data=y_test_r)\n",
    "f_test_r.create_dataset(\"input_shape_r\", data=input_shape_r)\n",
    "\n",
    "# Evaluation set\n",
    "f_val_r = h5py.File(target_folder_name+'/val_r.hdf5', \"w\")\n",
    "f_val_r.create_dataset(\"x_val_r\", data=x_val_r)\n",
    "f_val_r.create_dataset(\"y_val_r\", data=y_val_r)\n",
    "f_val_r.create_dataset(\"input_shape_r\", data=input_shape_r)\n",
    "\n",
    "# Closing files will write all changes\n",
    "f_train_r.close()\n",
    "f_test_r.close()\n",
    "f_val_r.close()\n",
    "\n",
    "%xdel x_train_r\n",
    "%xdel y_train_r\n",
    "%xdel mass_train_r\n",
    "%xdel x_test_r\n",
    "%xdel y_test_r\n",
    "%xdel x_val_r\n",
    "%xdel y_val_r\n",
    "%xdel signal_mass_list_r"
   ]
  },
  {
   "cell_type": "code",
   "execution_count": 9,
   "metadata": {},
   "outputs": [
    {
     "name": "stdout",
     "output_type": "stream",
     "text": [
      "(3, 40, 40)\n",
      "<class 'tuple'>\n"
     ]
    }
   ],
   "source": [
    "print(input_shape)\n",
    "print(type(input_shape))"
   ]
  },
  {
   "cell_type": "code",
   "execution_count": 13,
   "metadata": {},
   "outputs": [
    {
     "name": "stdout",
     "output_type": "stream",
     "text": [
      "Here is a background event image:\n"
     ]
    },
    {
     "ename": "NameError",
     "evalue": "name 'x_train' is not defined",
     "output_type": "error",
     "traceback": [
      "\u001b[0;31m---------------------------------------------------------------------------\u001b[0m",
      "\u001b[0;31mNameError\u001b[0m                                 Traceback (most recent call last)",
      "\u001b[0;32m<ipython-input-13-fbfbafaa6c02>\u001b[0m in \u001b[0;36m<module>\u001b[0;34m\u001b[0m\n\u001b[1;32m      1\u001b[0m \u001b[0mprint\u001b[0m\u001b[0;34m(\u001b[0m\u001b[0;34m'Here is a background event image:'\u001b[0m\u001b[0;34m)\u001b[0m\u001b[0;34m\u001b[0m\u001b[0;34m\u001b[0m\u001b[0m\n\u001b[0;32m----> 2\u001b[0;31m \u001b[0mplt\u001b[0m\u001b[0;34m.\u001b[0m\u001b[0mimshow\u001b[0m\u001b[0;34m(\u001b[0m\u001b[0mx_train\u001b[0m\u001b[0;34m[\u001b[0m\u001b[0;36m0\u001b[0m\u001b[0;34m]\u001b[0m\u001b[0;34m[\u001b[0m\u001b[0;36m10\u001b[0m\u001b[0;34m]\u001b[0m\u001b[0;34m)\u001b[0m\u001b[0;34m\u001b[0m\u001b[0;34m\u001b[0m\u001b[0m\n\u001b[0m\u001b[1;32m      3\u001b[0m \u001b[0mplt\u001b[0m\u001b[0;34m.\u001b[0m\u001b[0mshow\u001b[0m\u001b[0;34m(\u001b[0m\u001b[0;34m)\u001b[0m\u001b[0;34m\u001b[0m\u001b[0;34m\u001b[0m\u001b[0m\n\u001b[1;32m      4\u001b[0m \u001b[0;34m\u001b[0m\u001b[0m\n\u001b[1;32m      5\u001b[0m \u001b[0mprint\u001b[0m\u001b[0;34m(\u001b[0m\u001b[0;34m'Here is a signal event image:'\u001b[0m\u001b[0;34m)\u001b[0m\u001b[0;34m\u001b[0m\u001b[0;34m\u001b[0m\u001b[0m\n",
      "\u001b[0;31mNameError\u001b[0m: name 'x_train' is not defined"
     ]
    }
   ],
   "source": [
    "print('Here is a background event image:')\n",
    "plt.imshow(x_train[0][10])\n",
    "plt.show()\n",
    "\n",
    "print('Here is a signal event image:')\n",
    "plt.imshow(x_train[-1][10])\n",
    "plt.show()\n",
    "\n",
    "print('Here is a background jet image:')\n",
    "plt.imshow(x_train_r[0][10])\n",
    "plt.show()\n",
    "\n",
    "print('Here is a signal jet image:')\n",
    "plt.imshow(x_train_r[-1][10])\n",
    "plt.show()\n",
    "\n",
    "print('The datasets are always sorted background-first:')\n",
    "print(y_train[::100])\n",
    "print(y_train_r[::100])"
   ]
  },
  {
   "cell_type": "code",
   "execution_count": null,
   "metadata": {},
   "outputs": [],
   "source": []
  }
 ],
 "metadata": {
  "kernelspec": {
   "display_name": "Python 3 Keras",
   "language": "python",
   "name": "python_3_keras"
  },
  "language_info": {
   "codemirror_mode": {
    "name": "ipython",
    "version": 3
   },
   "file_extension": ".py",
   "mimetype": "text/x-python",
   "name": "python",
   "nbconvert_exporter": "python",
   "pygments_lexer": "ipython3",
   "version": "3.7.5"
  }
 },
 "nbformat": 4,
 "nbformat_minor": 2
}
